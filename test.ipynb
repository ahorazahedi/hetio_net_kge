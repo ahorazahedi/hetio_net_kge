{
 "cells": [
  {
   "cell_type": "code",
   "execution_count": 25,
   "metadata": {},
   "outputs": [],
   "source": [
    "import torch.nn as nn\n",
    "\n",
    "class NodeEmbeddings(nn.Module):\n",
    "    def __init__(self, n_drugs, n_proteins, n_diseases, embedding_dim):\n",
    "        super(NodeEmbeddings, self).__init__()\n",
    "        \n",
    "        # Embedding for Drugs\n",
    "        self.drug_embeddings = nn.Embedding(n_drugs, embedding_dim)\n",
    "        \n",
    "        # Embedding for Proteins\n",
    "        self.protein_embeddings = nn.Embedding(n_proteins, embedding_dim)\n",
    "\n",
    "        # Embedding for Diseases\n",
    "        self.disease_embeddings = nn.Embedding(n_diseases, embedding_dim)\n"
   ]
  },
  {
   "cell_type": "code",
   "execution_count": 26,
   "metadata": {},
   "outputs": [],
   "source": [
    "import torch\n",
    "def project_onto_hyperplane(v, hyperplane_normal):\n",
    "    \"\"\"\n",
    "    Project the vector v onto a hyperplane defined by its normal vector.\n",
    "    \"\"\"\n",
    "    # Calculate the dot product along the last dimension\n",
    "    dot_product = torch.sum(v * hyperplane_normal, dim=-1, keepdim=True)\n",
    "    projection = v - dot_product * hyperplane_normal / (torch.norm(hyperplane_normal)**2)\n",
    "    return projection\n"
   ]
  },
  {
   "cell_type": "code",
   "execution_count": 27,
   "metadata": {},
   "outputs": [],
   "source": [
    "import torch\n",
    "\n",
    "class HPProjection(nn.Module):\n",
    "    def __init__(self, n_drugs, n_proteins, n_diseases, embedding_dim):\n",
    "        super(HPProjection, self).__init__()\n",
    "\n",
    "        self.node_embeddings = NodeEmbeddings(\n",
    "            n_drugs, n_proteins, n_diseases, embedding_dim)\n",
    "        \n",
    "        # Single shared hyperplane normal vector for all types of nodes\n",
    "        self.hyperplane_embedding = nn.Parameter(torch.randn(embedding_dim))\n",
    "\n",
    "    def forward(self, drug_index, protein_index, disease_index):\n",
    "        # Retrieve the embeddings for the given indices\n",
    "        drug_emb = self.node_embeddings.drug_embeddings(drug_index)\n",
    "        protein_emb = self.node_embeddings.protein_embeddings(protein_index)\n",
    "        disease_emb = self.node_embeddings.disease_embeddings(disease_index)\n",
    "\n",
    "\n",
    "        # print(drug_emb)\n",
    "        # Project the embeddings onto the shared hyperplane\n",
    "         # Project the embeddings onto the shared hyperplane\n",
    "        drug_projected = project_onto_hyperplane(drug_emb, self.hyperplane_embedding)\n",
    "        protein_projected = project_onto_hyperplane(protein_emb, self.hyperplane_embedding)\n",
    "        disease_projected = project_onto_hyperplane(disease_emb, self.hyperplane_embedding)\n",
    "\n",
    "        return drug_projected, protein_projected, disease_projected\n",
    "\n",
    "        \n"
   ]
  },
  {
   "cell_type": "code",
   "execution_count": 30,
   "metadata": {},
   "outputs": [],
   "source": [
    "hyper_plane_projection= HPProjection(\n",
    "    \n",
    "    n_drugs = 500, n_proteins=200, n_diseases=400, embedding_dim=128\n",
    ")"
   ]
  },
  {
   "cell_type": "code",
   "execution_count": 32,
   "metadata": {},
   "outputs": [],
   "source": [
    "drug_projection  , _,_= hyper_plane_projection(torch.tensor([1 , 2 ,3]) , torch.tensor([1,2,3]) , torch.tensor([1,2,3]) , )"
   ]
  },
  {
   "cell_type": "code",
   "execution_count": 33,
   "metadata": {},
   "outputs": [
    {
     "data": {
      "text/plain": [
       "torch.Size([3, 128])"
      ]
     },
     "execution_count": 33,
     "metadata": {},
     "output_type": "execute_result"
    }
   ],
   "source": [
    "drug_projection.shape"
   ]
  },
  {
   "cell_type": "code",
   "execution_count": null,
   "metadata": {},
   "outputs": [],
   "source": []
  }
 ],
 "metadata": {
  "kernelspec": {
   "display_name": "Python 3",
   "language": "python",
   "name": "python3"
  },
  "language_info": {
   "codemirror_mode": {
    "name": "ipython",
    "version": 3
   },
   "file_extension": ".py",
   "mimetype": "text/x-python",
   "name": "python",
   "nbconvert_exporter": "python",
   "pygments_lexer": "ipython3",
   "version": "3.10.12"
  },
  "orig_nbformat": 4
 },
 "nbformat": 4,
 "nbformat_minor": 2
}
