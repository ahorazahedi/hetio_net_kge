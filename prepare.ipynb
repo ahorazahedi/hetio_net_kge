{
 "cells": [
  {
   "cell_type": "code",
   "execution_count": 9,
   "metadata": {},
   "outputs": [
    {
     "name": "stdout",
     "output_type": "stream",
     "text": [
      "          from   rel                              to\n",
      "0   Gene::9021  GpBP  Biological Process::GO:0071357\n",
      "1  Gene::51676  GpBP  Biological Process::GO:0098780\n",
      "2     Gene::19  GpBP  Biological Process::GO:0055088\n",
      "3   Gene::3176  GpBP  Biological Process::GO:0010243\n",
      "4   Gene::3039  GpBP  Biological Process::GO:0006898\n"
     ]
    }
   ],
   "source": [
    "import pandas as pd\n",
    "\n",
    "# assuming column names are 'Protein1', 'Interaction', 'Protein2'\n",
    "df = pd.read_csv('hetionet/edges.sif', sep='\\t', names=['from', 'rel', 'to'] , skiprows =1 )\n",
    "\n",
    "print(df.head())\n"
   ]
  },
  {
   "cell_type": "code",
   "execution_count": 10,
   "metadata": {},
   "outputs": [],
   "source": [
    "# Concatenate the 'Protein1' and 'Protein2' columns\n",
    "nodes = pd.concat([df['from'], df['to']])\n",
    "\n",
    "# Get unique nodes\n",
    "unique_nodes = nodes.unique()\n",
    "unique_edges = df['rel'].unique()\n",
    "\n",
    "\n"
   ]
  },
  {
   "cell_type": "code",
   "execution_count": 11,
   "metadata": {},
   "outputs": [
    {
     "data": {
      "text/plain": [
       "(45158, 24)"
      ]
     },
     "execution_count": 11,
     "metadata": {},
     "output_type": "execute_result"
    }
   ],
   "source": [
    "len(unique_nodes) , len(unique_edges)\n",
    "\n"
   ]
  },
  {
   "cell_type": "code",
   "execution_count": 12,
   "metadata": {},
   "outputs": [],
   "source": [
    "edge_mapping = {edge: i for i, edge in enumerate(unique_edges)}\n",
    "node_mapping = {node: i for i, node in enumerate(unique_nodes)}\n",
    "\n",
    "# Saving edge mapping to a file\n",
    "with open('./hetionet/entity2id.tsv', 'w') as file:\n",
    "    for edge, id in node_mapping.items():\n",
    "        file.write(f'{edge}\\t{id}\\n')\n",
    "        \n",
    "        \n",
    "\n",
    "# Saving edge mapping to a file\n",
    "with open('./hetionet/relation2id.tsv', 'w') as file:\n",
    "    for edge, id in edge_mapping.items():\n",
    "        file.write(f'{edge}\\t{id}\\n')\n",
    "        \n",
    "df.to_csv('./hetionet/het.tsv' , sep=\"\\t\"  , index=False)"
   ]
  }
 ],
 "metadata": {
  "kernelspec": {
   "display_name": "base",
   "language": "python",
   "name": "python3"
  },
  "language_info": {
   "codemirror_mode": {
    "name": "ipython",
    "version": 3
   },
   "file_extension": ".py",
   "mimetype": "text/x-python",
   "name": "python",
   "nbconvert_exporter": "python",
   "pygments_lexer": "ipython3",
   "version": "3.9.13"
  },
  "orig_nbformat": 4
 },
 "nbformat": 4,
 "nbformat_minor": 2
}
